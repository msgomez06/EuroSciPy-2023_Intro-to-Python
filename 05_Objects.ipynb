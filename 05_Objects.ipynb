{
 "cells": [
  {
   "cell_type": "markdown",
   "metadata": {},
   "source": [
    "# Objects and Classes\n",
    "\n",
    "In the previous notebook, we looked at how functions are definde in Python and how they can be used to create reusable code. In this notebook, we'll look at another way to create reusable code in Python: classes and objects.\n",
    "\n",
    "If we consider variables a way of storing data digitally, and functions as ways of defining tasks for the computer to perform, then objects are a way of organizing both data and tasks together. Objects are a way of organizing data and functions _together_ into a single entity. This is called **encapsulation**.\n",
    "\n",
    "By the end of this notebook, you should be able to:\n",
    "1. Describe the role of objects in Python\n",
    "2. Define methods and attributes\n",
    "3. Read code that defines a class\n",
    "4. Create objects from a class\n",
    "\n",
    "## Methods and Attributes\n",
    "\n",
    "Each object can have any number of variables associated with it (called **attributes**), and any number of functions associated with it (called **methods**). The attributes and methods of an object are accessed using the `.` operator. \n",
    "\n",
    "If you take a look to the previous notebooks with this in mind, you might realize that *you've been using objects all along*. For example, when you create a list, you're creating an object. The list has attributes (e.g., the data it contains, its type, and others) and methods (e.g., append, sort, and others)."
   ]
  },
  {
   "cell_type": "code",
   "execution_count": null,
   "metadata": {},
   "outputs": [],
   "source": [
    "# Let's make a list and look at some of the attributes and methods available\n",
    "\n",
    "example_list = [1, 2, 3, 4, 5]\n",
    "\n",
    "print(example_list.__class__) # __class__ is an attribute of the list object, it contains the class of the object\n",
    "print('-------------------------')\n",
    "print(example_list.__doc__) # __doc__ is an attribute of the list object, it contains the docstring of the object\n",
    "print('-------------------------')\n",
    "\n",
    "# Let's go ahead and print out the methods available to the list object\n",
    "print('Here are the callable methods of the list object:')\n",
    "for attr_or_method in dir(example_list):\n",
    "    if callable(getattr(example_list, attr_or_method)):\n",
    "        print(attr_or_method)\n",
    "\n",
    "print('-------------------------')\n",
    "\n",
    "# Let's go ahead and print out the attributes available to the list object\n",
    "print('Here are the attributes of the list object:')\n",
    "for attr_or_method in dir(example_list):\n",
    "    if not callable(getattr(example_list, attr_or_method)):\n",
    "        print(attr_or_method)"
   ]
  },
  {
   "cell_type": "markdown",
   "metadata": {},
   "source": [
    "Objects are useful because they allow us to group data and functions together. This allows us to organize our code and make it more readable. It also allows us to reuse code. We can create an object once and then use it many times. This is called **code reuse**.\n",
    "\n",
    "You may be wondering, then, how we can define new objects.\n",
    "\n",
    "Objects are defined by **classes**. A class is a blueprint for an object. It defines what data and functions the object will have. An object is an instance of a class - it is a specific instance of the blueprint."
   ]
  },
  {
   "cell_type": "code",
   "execution_count": null,
   "metadata": {},
   "outputs": [],
   "source": [
    "# Let's make a class that will hold the data for a single student\n",
    "# We'll call it Student\n",
    "\n",
    "class Student:\n",
    "    # The first thing we need to do is define the __init__ method\n",
    "    # This is the method that is called when we create a new instance of the class\n",
    "    # and is called a _constructor_\n",
    "    # The first argument to __init__ is always self - this is a reference to the instance\n",
    "    # that is being created\n",
    "    # The other arguments are the data that we want to store in the instance\n",
    "\n",
    "    def __init__(self, name, age, gpa, nationality):\n",
    "        self.name = name # self.name is the name attribute of the instance\n",
    "        self.age = age # self.age is the age attribute of the instance\n",
    "        self.gpa = gpa # self.gpa is the gpa attribute of the instance\n",
    "        self.nationality = nationality # self.nationality is the nationality attribute of the instance\n",
    "    \n",
    "    # We can also define methods on our class\n",
    "    # Let's define a method that will print out a message introducing the student\n",
    "    # The first argument to a method is always self\n",
    "    # The other arguments are the data that we want to pass to the method\n",
    "    # We can access the attributes of the instance using self.attribute_name\n",
    "    # We can also access other methods of the instance using self.method_name\n",
    "    def introduce(self):\n",
    "        print(f\"Hi, my name is {self.name} and I'm {self.age} years old.\")\n",
    "        print(f\"I am a {self.nationality} student and my GPA is {self.gpa}\")\n",
    "\n",
    "# Now let's create an instance of the Student class\n",
    "# We do this by calling the class like a function\n",
    "# We pass the arguments to the __init__ method\n",
    "# The first argument is always self, so we don't need to pass that\n",
    "# We pass the other arguments in the order that they are defined in the __init__ method\n",
    "# We can store the instance in a variable so that we can access it later\n",
    "student1 = Student(\"John\", 21, 3.5, \"British\")\n",
    "\n",
    "# We can access the attributes of the instance using the dot operator\n",
    "print(f'The first student is called {student1.name}.')\n",
    "\n",
    "# We can also call the methods of the instance using the dot operator\n",
    "student1.introduce()\n",
    "\n"
   ]
  },
  {
   "cell_type": "markdown",
   "metadata": {},
   "source": [
    "## Inheritance\n",
    "Sometimes, a class that you're interested lacks an attribute or method that you need. In this case, you can create a new class that *inherits* from the original class. The new class will have all the attributes and methods of the original class, and you can add new ones as well."
   ]
  },
  {
   "cell_type": "code",
   "execution_count": null,
   "metadata": {},
   "outputs": [],
   "source": [
    "# Let's look at how class inheritance works in Python.\n",
    "\n",
    "# Previously, we definde a 'Student' class. Let's define a 'graduate' class that inherits from the 'student' class.\n",
    "\n",
    "class graduate(Student):\n",
    "    # We start out by defining the __init__method as usual.\n",
    "    def __init__(self, name, age, gpa, nationality, major, grad_year):\n",
    "        # We can use the 'super()' function to inherit the attributes of the parent class.\n",
    "        # This let's us avoid redefining the attributes that are the same as the parent class\n",
    "        # by using the parent class's __init__ method.\n",
    "        super().__init__(name, age, major, gpa)\n",
    "\n",
    "        # We can then add the attributes that are unique to the graduate class.\n",
    "        self.major = major\n",
    "        self.grad_year = grad_year\n",
    "    \n",
    "    # We can also add methods that are unique to the graduate class.\n",
    "    def grad_speech(self):\n",
    "        print(f\"Hello, my name is {self.name} and I graduated on {self.grad_year} with a degree in {self.major}.\")\n",
    "\n",
    "# Let's create a graduate object.\n",
    "grad1 = graduate(\"Marina\", 24, 17, \"French\", \"Atmospheric Science\", 2020)\n",
    "\n",
    "# We can use the methods that are inherited from the student class.\n",
    "grad1.introduce()\n",
    "\n",
    "print('------------------')\n",
    "\n",
    "# We can also use the methods that are unique to the graduate class.\n",
    "grad1.grad_speech()"
   ]
  },
  {
   "cell_type": "code",
   "execution_count": null,
   "metadata": {},
   "outputs": [],
   "source": []
  }
 ],
 "metadata": {
  "kernelspec": {
   "display_name": "tutorial_env",
   "language": "python",
   "name": "python3"
  },
  "language_info": {
   "codemirror_mode": {
    "name": "ipython",
    "version": 3
   },
   "file_extension": ".py",
   "mimetype": "text/x-python",
   "name": "python",
   "nbconvert_exporter": "python",
   "pygments_lexer": "ipython3",
   "version": "3.9.0"
  },
  "orig_nbformat": 4
 },
 "nbformat": 4,
 "nbformat_minor": 2
}
