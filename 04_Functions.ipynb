{
 "cells": [
  {
   "cell_type": "markdown",
   "metadata": {},
   "source": [
    "We'll also discuss _Functions_ in Python. Functions are a way to encapsulate (i.e., group) code that we want to reuse. We'll discuss the following topics:\n",
    "* Defining Functions\n",
    "* Function Arguments\n",
    "* Returning Values"
   ]
  }
 ],
 "metadata": {
  "language_info": {
   "name": "python"
  },
  "orig_nbformat": 4
 },
 "nbformat": 4,
 "nbformat_minor": 2
}
