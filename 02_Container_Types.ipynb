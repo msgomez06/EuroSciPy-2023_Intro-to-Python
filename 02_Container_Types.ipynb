{
 "cells": [
  {
   "cell_type": "markdown",
   "metadata": {},
   "source": [
    "# Containers\n",
    "\n",
    "In the previous tutorial, we covered different types of variables. As you can imagine, we often want to group the information contained in variables together. For example, if we are working with a dataset of students, we might want to group the information about each student together. We can do this using *containers*.\n",
    "\n",
    "This notebook is meant to give you an introduction to container types in Python. Your goals for this notebook should be to:\n",
    "1. Become familiar with lists, tuples, and dictionaries\n",
    "2. Become familiar indexing and slicing\n",
    "3. Become familiar with *mutable* and *immutable* containers\n",
    "\n",
    "\n",
    "\n",
    "## Types of Containers\n",
    "Let's take a moment to list the different types of containers we will cover in this tutorial:\n",
    "- Lists\n",
    "- Tuples\n",
    "- Sets\n",
    "- Dictionaries\n",
    "\n",
    "## Lists\n",
    "A list is a container that can hold any number of variables, and can even hold variables of different types. To create a list, we need to use square brackets `[]`, and then each element within the list is separated using a comma `,`. "
   ]
  },
  {
   "cell_type": "code",
   "execution_count": null,
   "metadata": {},
   "outputs": [],
   "source": [
    "# Let's start by creating a list of numbers\n",
    "numbers = [1, 2, 3, 4, 5]\n",
    "print(f'Here is my list of numbers: {numbers}')"
   ]
  },
  {
   "cell_type": "code",
   "execution_count": null,
   "metadata": {},
   "outputs": [],
   "source": [
    "# Note that we can also group different types of data in a list\n",
    "mixed_list = [1, 'two', 3.0, 'four', 5]\n",
    "print(f'Here is my mixed list: {mixed_list}')"
   ]
  },
  {
   "cell_type": "code",
   "execution_count": null,
   "metadata": {},
   "outputs": [],
   "source": [
    "# We can also create a list of lists\n",
    "list_of_lists = [[1, 2, 3], ['four', 'five', 'six'], [7.0, 8.0, 9.0]]\n",
    "print(f'Here is my list of lists: {list_of_lists}')"
   ]
  },
  {
   "cell_type": "markdown",
   "metadata": {},
   "source": [
    "That's all well and useful, but as you can imagine sometimes we want to do more than just print out the contents of a container. Oftentimes, we will want to access specific elements of a container. We can do this by using the index of the element we want to access. The index of an element is its position in the container. \n",
    "\n",
    "For example, the first element of a list has an index of 0, the second element has an index of 1, and so on. We can access the element at a specific index by using square brackets and the index of the element we want to access."
   ]
  },
  {
   "cell_type": "code",
   "execution_count": null,
   "metadata": {},
   "outputs": [],
   "source": [
    "# Let's start out by creating a list of student names\n",
    "students = ['Alice', 'Bob', 'Charlie', 'Debbie', 'Evan', 'Frank']\t\n",
    "\n",
    "# We can access individual elements of a list by their index\n",
    "print(students[0]) # Alice\n",
    "print(students[1]) # Bob"
   ]
  },
  {
   "cell_type": "code",
   "execution_count": null,
   "metadata": {},
   "outputs": [],
   "source": [
    "# We can also access elements from the end of the list\n",
    "print(students[-1]) # Frank\n",
    "print(students[-2]) # Evan"
   ]
  },
  {
   "cell_type": "code",
   "execution_count": null,
   "metadata": {},
   "outputs": [],
   "source": [
    "# We can use indices to access a range of elements. Note that the end index \n",
    "# is exclusive (i.e., the element at the end index is not included in the result)\n",
    "# Accessing a range of elements is called _slicing_.\n",
    "print(students[0:2]) # ['Alice', 'Bob']\n",
    "print(students[2:4]) # ['Charlie', 'Debbie']"
   ]
  },
  {
   "cell_type": "code",
   "execution_count": null,
   "metadata": {},
   "outputs": [],
   "source": [
    "# We can also slices elements from the end of the list\n",
    "print(students[-4:-2]) # ['Charlie', 'Debbie']"
   ]
  },
  {
   "cell_type": "code",
   "execution_count": null,
   "metadata": {},
   "outputs": [],
   "source": [
    "# You can also leave out the start or end index\n",
    "print(students[:2]) # ['Alice', 'Bob']\n",
    "print(students[4:]) # ['Evan', 'Frank']"
   ]
  },
  {
   "cell_type": "code",
   "execution_count": null,
   "metadata": {},
   "outputs": [],
   "source": [
    "# And you can even use step size to skip values in the list\n",
    "print(students[::2]) # This will print every other student in the list"
   ]
  },
  {
   "cell_type": "markdown",
   "metadata": {},
   "source": [
    "Lists are what is known as a _mutable_ data type. This means that the contents of the list can be changed - we can add or remove items in the list!"
   ]
  },
  {
   "cell_type": "code",
   "execution_count": null,
   "metadata": {},
   "outputs": [],
   "source": [
    "# Let's remove the last element from the list. If you keep running this cell\n",
    "# you will see that the last element is removed each time. This is because\n",
    "# pop() removes the last element from the list by default.\n",
    "print(f'Students before pop: {students}')\n",
    "students.pop()\n",
    "print(f'Students after pop: {students}')"
   ]
  },
  {
   "cell_type": "code",
   "execution_count": null,
   "metadata": {},
   "outputs": [],
   "source": [
    "# You can also add an element to the end of a list using the append() method.\n",
    "# Let's add Harry to the list of students. Note that if you keep running this cell,\n",
    "# Harry will keep getting appended to the list!\n",
    "print(f'Students before appending: {students}')\n",
    "students.append(\"Harry\")\n",
    "print(f'Students after appending: {students}')"
   ]
  },
  {
   "cell_type": "code",
   "execution_count": null,
   "metadata": {},
   "outputs": [],
   "source": [
    "# You can also remove a student from the list by using the remove() method.\n",
    "# Note that the remove() method removes the first occurrence of the specified value,\n",
    "# so if a student is in the list twice, only the first occurrence will be removed.\n",
    "# Additionally, if the student is not in the list, you'll get an error.\n",
    "\n",
    "print(f'Before: {students}')\n",
    "students.remove('Debbie')\n",
    "print(f'After: {students}')"
   ]
  },
  {
   "cell_type": "code",
   "execution_count": null,
   "metadata": {},
   "outputs": [],
   "source": [
    "# You can replace elements in a list by assigning to a specific index\n",
    "# This is called \"mutating\" the list\n",
    "\n",
    "# The last student in the list will be replaced with \"Hermione\"\n",
    "print(f'Before mutation: {students}')\n",
    "students[-1] = \"Hermione\"\n",
    "print(f'After mutation: {students}')"
   ]
  },
  {
   "cell_type": "code",
   "execution_count": null,
   "metadata": {},
   "outputs": [],
   "source": [
    "# If you need to know how long the list is, you can use the len() function.\n",
    "\n",
    "print('The total number of students is', len(students))"
   ]
  },
  {
   "cell_type": "markdown",
   "metadata": {},
   "source": [
    "## Tuples\n",
    "\n",
    "Tuples are similar to lists, but they are _immutable_. This means that once you create a tuple, you cannot change it. Tuples are created using parentheses `()`, rather than the square brackets we used to create lists."
   ]
  },
  {
   "cell_type": "code",
   "execution_count": null,
   "metadata": {},
   "outputs": [],
   "source": [
    "# Just like with lists, we can define a tuple manually\n",
    "student_tuple = ('Alicia', 'Benjamin', 'Charles', 'Diana', 'Ethan')\n",
    "\n",
    "# We can also define a tuple from a list\n",
    "student_twople = tuple(students) # A terrible pun, I know\n",
    "\n",
    " # And we access tuples the same way we access lists\n",
    "print(student_tuple[0]) # Alicia\n",
    "print(student_tuple[-1]) # Ethan\n",
    "print(student_tuple[1:3]) # ('Benjamin', 'Charles')"
   ]
  },
  {
   "cell_type": "code",
   "execution_count": null,
   "metadata": {},
   "outputs": [],
   "source": [
    "# Because tuples are inmutable, there's no equivalent of `append`, 'pop', or 'remove'.\n",
    "# Similarly, you cannot change the value of an element in a tuple.\n",
    "\n",
    "student_tuple[0] = 'John' # This line will raine an error!"
   ]
  },
  {
   "cell_type": "code",
   "execution_count": null,
   "metadata": {},
   "outputs": [],
   "source": [
    "# You can, however, create a new tuple with the desired values.\n",
    "print(f'Single tuple: {student_tuple}')\n",
    "student_twople = student_tuple + student_tuple # The plus operator will concatenate tuples (i.e., put them together)\n",
    "print(f'Double tuple: {student_twople}')"
   ]
  },
  {
   "cell_type": "markdown",
   "metadata": {},
   "source": [
    "## Sets\n",
    "Sets are unordered collections of unique (i.e., non-repeating) elements. We can construct them by using the set() function. Let's go ahead and make a set to see how it works."
   ]
  },
  {
   "cell_type": "code",
   "execution_count": null,
   "metadata": {},
   "outputs": [],
   "source": [
    "# Let's start by making a set of fruit types\n",
    "fruit = {'apple', 'banana', 'orange', 'pear', 'grapefruit', 'kiwi'}\n",
    "\n",
    "# We can check the length of the set\n",
    "print(f'There are {len(fruit)} fruits in the set')"
   ]
  },
  {
   "cell_type": "code",
   "execution_count": null,
   "metadata": {},
   "outputs": [],
   "source": [
    "# Let's go ahead and add cherries to our fruit set. Note that unlike with lists,\n",
    "# the function to add an element to a set is called add, not append.\n",
    "\n",
    "fruit.add('cherries')\n",
    "print(fruit)\n",
    "print(f'There are {len(fruit)} fruits in the set')"
   ]
  },
  {
   "cell_type": "code",
   "execution_count": null,
   "metadata": {},
   "outputs": [],
   "source": [
    "# If we try to add one of the existing fruits to the set, it will not be added again.\n",
    "\n",
    "print('Number of fruits in the set before trying to add \"apple\": ', len(fruit))\n",
    "fruit.add(\"apple\")\n",
    "print('Number of fruits in the set after trying to add \"apple\": ', len(fruit))"
   ]
  },
  {
   "cell_type": "code",
   "execution_count": null,
   "metadata": {},
   "outputs": [],
   "source": [
    "# One case in which you can use sets is to find the unique elements in a list:\n",
    "# Create a list with repeated elements\n",
    "my_list = [ 1, 8, 4, 1, 8, 4,  1, 8, 4, 1, 8, 4, 1, 8, 4, 1, 8, 4, 1, 0, 4, 1, 8, 4, 1, 8, 4, 1, 8, 4, 1, 8, 4, 1, 8, 4,]\n",
    "\n",
    "# Cast as set to get unique values\n",
    "my_set = set(my_list)\n",
    "\n",
    "# Print the set\n",
    "print(my_set)"
   ]
  },
  {
   "cell_type": "markdown",
   "metadata": {},
   "source": [
    "It's also important to note that unlike with lists and tuples, you can't access elements in a set by index. This is because sets are unordered, meaning that they don't have a first or last element. Instead, you can check if an element is in a set using the `in` keyword."
   ]
  },
  {
   "cell_type": "code",
   "execution_count": null,
   "metadata": {},
   "outputs": [],
   "source": [
    "# Check if 0 is in my_set\n",
    "print('Is 0 in my set?', 0 in my_set)\n",
    "\n",
    "# Note that the in keywords also works with strings and other containers\n",
    "print('Is \"a\" in the string?', 'a' in 'Supercalifragilisticexpialidocious')\n",
    "print('Is Sally in students?', 'Sally' in students)"
   ]
  },
  {
   "cell_type": "markdown",
   "metadata": {},
   "source": [
    "# Dictionaries\n",
    "\n",
    "Sometimes we want to be able to access information stored in a container by a name, rather than by a number. For example, we might want to store the ages of a group of people, and then be able to retrieve the age of a person by their name. This is where dictionaries come in. \n",
    "\n",
    "Each element in a dictionary is a pair: an inmutable _key_ and a _value_. The key is used to look up the value. The key can be any inmutable type, such as a string or a number. The value can be any type, including another dictionary. One way to construct a dictionary is to use curly braces `{}` and colons `:` to separate keys and values. Let's try it out"
   ]
  },
  {
   "cell_type": "code",
   "execution_count": null,
   "metadata": {},
   "outputs": [],
   "source": [
    "# Let's make a dictionary of countries and the main language spoken there\n",
    "official_languages = {'Australia': 'English', \n",
    "                      'China': 'Mandarin',\n",
    "                      'France': 'French', \n",
    "                      'Germany': 'German', \n",
    "                      'Italy': 'Italian',\n",
    "                      'Lebanon': 'Arabic',\n",
    "                      'Mexico': 'Spanish',\n",
    "                      'Switzerland': ['German','French', 'Italian', 'Romansh']}"
   ]
  },
  {
   "cell_type": "code",
   "execution_count": null,
   "metadata": {},
   "outputs": [],
   "source": [
    "# We can use the 'get' method to retrieve a value from a dictionary.\n",
    "# You can call whichever key you want and it will return the value.\n",
    "print(official_languages.get('China'))\n",
    "\n",
    "# Alternatively, you can use square brackets to retrieve a value using a key.\n",
    "print(official_languages['China'])"
   ]
  },
  {
   "cell_type": "code",
   "execution_count": null,
   "metadata": {},
   "outputs": [],
   "source": [
    "# Using the get() method provides an advantage, as you can also specify\n",
    "# a default value to return if the key doesn't exist.\n",
    "country_to_check = 'Palau'\n",
    "print(f'The official language of {country_to_check} is',\n",
    "      official_languages.get(country_to_check, 'not in the dictionary.'))"
   ]
  },
  {
   "cell_type": "code",
   "execution_count": null,
   "metadata": {},
   "outputs": [],
   "source": [
    "# You can add elements to dictionaries by using the following syntax:\n",
    "official_languages['Portugal'] = 'Portuguese'\n",
    "\n",
    "# Another way to add elements to dictionaries is by using the update() method.\n",
    "# The update() method inserts the specified items to the dictionary, and it \n",
    "# normally takes a dictionary as an argument.\n",
    "official_languages.update({'Japan': 'Japanese'})"
   ]
  },
  {
   "cell_type": "code",
   "execution_count": null,
   "metadata": {},
   "outputs": [],
   "source": [
    "# The keys in a dictionary are unique and immutable objects. (i.e., you\n",
    "# can't have repeated keys, and you can't use lists as keys because they\n",
    "# are mutable.)\n",
    "\n",
    "# The values in a dictionary however can be modified at any time.\n",
    "# Let's pretend that France has decided to add Occitan as a national\n",
    "# language. We can do this by simply assigning a new value to the\n",
    "# appropriate key:\n",
    "official_languages['France'] = ['French', 'Occitan']\n",
    "print('The official languages of France are now:', official_languages['France'])"
   ]
  },
  {
   "cell_type": "code",
   "execution_count": null,
   "metadata": {},
   "outputs": [],
   "source": [
    "# Remember how we said lists are mutable? That means we can change them after we create them, even\n",
    "# if they're stored in a Dictionary. Let's add a new language to France's list of official languages\n",
    "# and see what happens.\n",
    "official_languages['France'].append('Alsatian')\n",
    "print('France now has', len(official_languages['France']), 'official languages: ', official_languages['France'])\t"
   ]
  },
  {
   "cell_type": "markdown",
   "metadata": {},
   "source": [
    "Like sets, dictionaries are unordered - i.e., the order of the elements is not guaranteed and you cannot access them via a numerical index. "
   ]
  },
  {
   "cell_type": "code",
   "execution_count": null,
   "metadata": {},
   "outputs": [],
   "source": [
    "# Let's talk about removing items from a dictionary\n",
    "# We begin by repopulating our dictionary\n",
    "official_languages = {'Australia': 'English', \n",
    "                      'China': 'Mandarin',\n",
    "                      'France': 'French', \n",
    "                      'Germany': 'German', \n",
    "                      'Italy': 'Italian',\n",
    "                      'Lebanon': 'Arabic',\n",
    "                      'Mexico': 'Spanish',\n",
    "                      'Switzerland': ['German','French', 'Italian', 'Romansh']}\n",
    "\n",
    "\n",
    "# We can use the del keyword to remove a key-value pair from a dictionary\n",
    "print('Number of countries in the dictionary before removing a key-value pair:', len(official_languages))\n",
    "del official_languages['China']\n",
    "print('Number of countries in the dictionary after removing a key-value pair:', len(official_languages))\n",
    "\n",
    "# We can also use the pop() method to remove a key-value pair from a dictionary\n",
    "# Unlike del, pop() returns the value of the removed key-value pair\n",
    "removed_language = official_languages.pop('Germany')\n",
    "print('Popped language:', removed_language)\n",
    "\n",
    "# We can also use the popitem() method to remove a key-value pair from a dictionary\n",
    "# Unlike pop(), popitem() returns a tuple containing the key-value pair that was removed\n",
    "popped_pair = official_languages.popitem()\n",
    "print('Popped pair:', popped_pair)"
   ]
  },
  {
   "cell_type": "markdown",
   "metadata": {},
   "source": [
    "This marks the end of the notebook on container types. Congratulations on reaching the end! We'll be starting on the Flow Control notebook soon, but take this moment to stretch and relax. You've earned it!"
   ]
  },
  {
   "cell_type": "markdown",
   "metadata": {},
   "source": [
    "If you want to know more about the container types, you can read the [official documentation](https://docs.python.org/3/tutorial/datastructures.html). The documentation goes into more detail about the different container types and their methods, including sorting, element counting, and other useful operations.\n"
   ]
  }
 ],
 "metadata": {
  "kernelspec": {
   "display_name": "tutorial_env",
   "language": "python",
   "name": "python3"
  },
  "language_info": {
   "codemirror_mode": {
    "name": "ipython",
    "version": 3
   },
   "file_extension": ".py",
   "mimetype": "text/x-python",
   "name": "python",
   "nbconvert_exporter": "python",
   "pygments_lexer": "ipython3",
   "version": "3.9.0"
  },
  "orig_nbformat": 4
 },
 "nbformat": 4,
 "nbformat_minor": 2
}
