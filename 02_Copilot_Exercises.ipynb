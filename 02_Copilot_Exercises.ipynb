{
 "cells": [
  {
   "cell_type": "markdown",
   "metadata": {},
   "source": [
    "<a href=\"https://colab.research.google.com/github/msgomez06/EuroSciPy-2023_Intro-to-Python/blob/main/02_Copilot_Exercises.ipynb\" target=\"_blank\"> <img src=\"https://colab.research.google.com/assets/colab-badge.svg\" alt=\"Open In Colab\"> </a>"
   ]
  },
  {
   "cell_type": "markdown",
   "metadata": {},
   "source": [
    "In this notebook we'll be going over a few exercises to get you familiar with AI assisted coding and the Copilot tool. \n",
    "\n",
    "Because you won't be installing anything locally, I will simply paste the response from Copilot into the notebook.\n",
    "\n",
    "Let's look at a MatLAB script that uses TSNE to reduce the dimensionality of a sample pepper dataset. Like with the previous exercise, don't worry too much about the code itself - try to understand it for a bit but we'll then look at the output from Copilot.\n",
    "\n",
    "```matlab\t\n",
    "% Create a table with hot pepper data\n",
    "varietyNames = {'Habanero', 'Jalapeno', 'Serrano', 'Ghost Pepper', 'Scotch Bonnet'};\n",
    "averageLength = [5.1, 4.3, 4.7, 6.8, 4.9];\n",
    "averageDiameter = [2.0, 2.5, 2.2, 2.8, 2.3];\n",
    "scovilleHeatUnits = [350000, 8000, 23000, 1000000, 200000];\n",
    "averagePetalLength = [1.5, 1.3, 1.4, 1.6, 1.4];\n",
    "averagePetalWidth = [0.7, 0.6, 0.8, 0.5, 0.7];\n",
    "averageLeafWidth = [2.5, 2.0, 2.2, 2.8, 2.4];\n",
    "averageLeafLength = [6.0, 5.5, 5.7, 7.2, 6.1];\n",
    "species = {'Capsicum chinense', 'Capsicum annuum', 'Capsicum annuum', 'Capsicum chinense', 'Capsicum chinense'};\n",
    "colors = {'Red', 'Green', 'Green', 'Red', 'Orange'};\n",
    "\n",
    "pepperTable = table(varietyNames', averageLength', averageDiameter', scovilleHeatUnits',...\n",
    "    averagePetalLength', averagePetalWidth', averageLeafWidth', averageLeafLength',...\n",
    "    species', colors',...\n",
    "    'VariableNames', {'Name', 'AvgLength', 'AvgDiameter', 'ScovilleHeatUnits',...\n",
    "    'AvgPetalLength', 'AvgPetalWidth', 'AvgLeafWidth', 'AvgLeafLength',...\n",
    "    'Species', 'Color'});\n",
    "\n",
    "% Perform t-SNE on the feature data\n",
    "features = [pepperTable.AvgLength, pepperTable.AvgDiameter, pepperTable.ScovilleHeatUnits,...\n",
    "    pepperTable.AvgPetalLength, pepperTable.AvgPetalWidth, pepperTable.AvgLeafWidth, pepperTable.AvgLeafLength];\n",
    "rng(0); % For reproducibility\n",
    "mappedX = tsne(features);\n",
    "\n",
    "% Plot the t-SNE results\n",
    "scatter(mappedX(:,1), mappedX(:,2), 50, 'filled', 'MarkerFaceColor', 'b');\n",
    "text(mappedX(:,1), mappedX(:,2), pepperTable.Name, 'FontSize', 8, 'VerticalAlignment', 'bottom', 'HorizontalAlignment', 'right');\n",
    "title('t-SNE Visualization of Hot Pepper Varieties');\n",
    "xlabel('t-SNE Dimension 1');\n",
    "ylabel('t-SNE Dimension 2');\n",
    "grid on;\n",
    "```\n",
    "\n",
    "If we ask copilot to explain this code, this is the output we get:\n",
    ">GitHub Copilot: This MATLAB code creates a table called `pepperTable` that contains data on different varieties of hot peppers. The table has columns for the name of the variety, average length, average diameter, Scoville heat units, average petal length, average petal width, average leaf width, average leaf length, species, and color. \n",
    ">\n",
    ">The code then performs t-SNE (t-distributed stochastic neighbor embedding) on the feature data, which is a dimensionality reduction technique used for visualizing high-dimensional data. The feature data is a matrix that contains the average length, average diameter, Scoville heat units, average petal length, average petal width, average leaf width, and average leaf length for each variety of hot pepper. \n",
    ">\n",
    ">Finally, the code plots the t-SNE results as a scatter plot, with each point representing a variety of hot pepper. The x and y coordinates of each point are the two dimensions of the t-SNE embedding, and the color of each point corresponds to the variety's color. The name of each variety is also displayed next to its corresponding point."
   ]
  },
  {
   "cell_type": "code",
   "execution_count": 1,
   "metadata": {},
   "outputs": [
    {
     "ename": "ImportError",
     "evalue": "DLL load failed while importing _imaging: Le module spécifié est introuvable.",
     "output_type": "error",
     "traceback": [
      "\u001b[1;31m---------------------------------------------------------------------------\u001b[0m",
      "\u001b[1;31mImportError\u001b[0m                               Traceback (most recent call last)",
      "Cell \u001b[1;32mIn[1], line 7\u001b[0m\n\u001b[0;32m      5\u001b[0m \u001b[39mimport\u001b[39;00m \u001b[39mnumpy\u001b[39;00m \u001b[39mas\u001b[39;00m \u001b[39mnp\u001b[39;00m\n\u001b[0;32m      6\u001b[0m \u001b[39mfrom\u001b[39;00m \u001b[39msklearn\u001b[39;00m\u001b[39m.\u001b[39;00m\u001b[39mmanifold\u001b[39;00m \u001b[39mimport\u001b[39;00m TSNE\n\u001b[1;32m----> 7\u001b[0m \u001b[39mimport\u001b[39;00m \u001b[39mmatplotlib\u001b[39;00m\u001b[39m.\u001b[39;00m\u001b[39mpyplot\u001b[39;00m \u001b[39mas\u001b[39;00m \u001b[39mplt\u001b[39;00m\n\u001b[0;32m      9\u001b[0m \u001b[39m# Create a DataFrame with hot pepper data\u001b[39;00m\n\u001b[0;32m     10\u001b[0m varietyNames \u001b[39m=\u001b[39m [\u001b[39m'\u001b[39m\u001b[39mHabanero\u001b[39m\u001b[39m'\u001b[39m, \u001b[39m'\u001b[39m\u001b[39mJalapeno\u001b[39m\u001b[39m'\u001b[39m, \u001b[39m'\u001b[39m\u001b[39mSerrano\u001b[39m\u001b[39m'\u001b[39m, \u001b[39m'\u001b[39m\u001b[39mGhost Pepper\u001b[39m\u001b[39m'\u001b[39m, \u001b[39m'\u001b[39m\u001b[39mScotch Bonnet\u001b[39m\u001b[39m'\u001b[39m]\n",
      "File \u001b[1;32mc:\\Users\\mgomezd1\\Miniconda3\\envs\\tutorial_env\\lib\\site-packages\\matplotlib\\__init__.py:129\u001b[0m\n\u001b[0;32m    125\u001b[0m \u001b[39mfrom\u001b[39;00m \u001b[39mpackaging\u001b[39;00m\u001b[39m.\u001b[39;00m\u001b[39mversion\u001b[39;00m \u001b[39mimport\u001b[39;00m parse \u001b[39mas\u001b[39;00m parse_version\n\u001b[0;32m    127\u001b[0m \u001b[39m# cbook must import matplotlib only within function\u001b[39;00m\n\u001b[0;32m    128\u001b[0m \u001b[39m# definitions, so it is safe to import from it here.\u001b[39;00m\n\u001b[1;32m--> 129\u001b[0m \u001b[39mfrom\u001b[39;00m \u001b[39m.\u001b[39;00m \u001b[39mimport\u001b[39;00m _api, _version, cbook, _docstring, rcsetup\n\u001b[0;32m    130\u001b[0m \u001b[39mfrom\u001b[39;00m \u001b[39mmatplotlib\u001b[39;00m\u001b[39m.\u001b[39;00m\u001b[39mcbook\u001b[39;00m \u001b[39mimport\u001b[39;00m sanitize_sequence\n\u001b[0;32m    131\u001b[0m \u001b[39mfrom\u001b[39;00m \u001b[39mmatplotlib\u001b[39;00m\u001b[39m.\u001b[39;00m\u001b[39m_api\u001b[39;00m \u001b[39mimport\u001b[39;00m MatplotlibDeprecationWarning\n",
      "File \u001b[1;32mc:\\Users\\mgomezd1\\Miniconda3\\envs\\tutorial_env\\lib\\site-packages\\matplotlib\\rcsetup.py:27\u001b[0m\n\u001b[0;32m     25\u001b[0m \u001b[39mfrom\u001b[39;00m \u001b[39mmatplotlib\u001b[39;00m \u001b[39mimport\u001b[39;00m _api, cbook\n\u001b[0;32m     26\u001b[0m \u001b[39mfrom\u001b[39;00m \u001b[39mmatplotlib\u001b[39;00m\u001b[39m.\u001b[39;00m\u001b[39mcbook\u001b[39;00m \u001b[39mimport\u001b[39;00m ls_mapper\n\u001b[1;32m---> 27\u001b[0m \u001b[39mfrom\u001b[39;00m \u001b[39mmatplotlib\u001b[39;00m\u001b[39m.\u001b[39;00m\u001b[39mcolors\u001b[39;00m \u001b[39mimport\u001b[39;00m Colormap, is_color_like\n\u001b[0;32m     28\u001b[0m \u001b[39mfrom\u001b[39;00m \u001b[39mmatplotlib\u001b[39;00m\u001b[39m.\u001b[39;00m\u001b[39m_fontconfig_pattern\u001b[39;00m \u001b[39mimport\u001b[39;00m parse_fontconfig_pattern\n\u001b[0;32m     29\u001b[0m \u001b[39mfrom\u001b[39;00m \u001b[39mmatplotlib\u001b[39;00m\u001b[39m.\u001b[39;00m\u001b[39m_enums\u001b[39;00m \u001b[39mimport\u001b[39;00m JoinStyle, CapStyle\n",
      "File \u001b[1;32mc:\\Users\\mgomezd1\\Miniconda3\\envs\\tutorial_env\\lib\\site-packages\\matplotlib\\colors.py:51\u001b[0m\n\u001b[0;32m     49\u001b[0m \u001b[39mfrom\u001b[39;00m \u001b[39mnumbers\u001b[39;00m \u001b[39mimport\u001b[39;00m Number\n\u001b[0;32m     50\u001b[0m \u001b[39mimport\u001b[39;00m \u001b[39mre\u001b[39;00m\n\u001b[1;32m---> 51\u001b[0m \u001b[39mfrom\u001b[39;00m \u001b[39mPIL\u001b[39;00m \u001b[39mimport\u001b[39;00m Image\n\u001b[0;32m     52\u001b[0m \u001b[39mfrom\u001b[39;00m \u001b[39mPIL\u001b[39;00m\u001b[39m.\u001b[39;00m\u001b[39mPngImagePlugin\u001b[39;00m \u001b[39mimport\u001b[39;00m PngInfo\n\u001b[0;32m     54\u001b[0m \u001b[39mimport\u001b[39;00m \u001b[39mmatplotlib\u001b[39;00m \u001b[39mas\u001b[39;00m \u001b[39mmpl\u001b[39;00m\n",
      "File \u001b[1;32mc:\\Users\\mgomezd1\\Miniconda3\\envs\\tutorial_env\\lib\\site-packages\\PIL\\Image.py:100\u001b[0m\n\u001b[0;32m     91\u001b[0m MAX_IMAGE_PIXELS \u001b[39m=\u001b[39m \u001b[39mint\u001b[39m(\u001b[39m1024\u001b[39m \u001b[39m*\u001b[39m \u001b[39m1024\u001b[39m \u001b[39m*\u001b[39m \u001b[39m1024\u001b[39m \u001b[39m/\u001b[39m\u001b[39m/\u001b[39m \u001b[39m4\u001b[39m \u001b[39m/\u001b[39m\u001b[39m/\u001b[39m \u001b[39m3\u001b[39m)\n\u001b[0;32m     94\u001b[0m \u001b[39mtry\u001b[39;00m:\n\u001b[0;32m     95\u001b[0m     \u001b[39m# If the _imaging C module is not present, Pillow will not load.\u001b[39;00m\n\u001b[0;32m     96\u001b[0m     \u001b[39m# Note that other modules should not refer to _imaging directly;\u001b[39;00m\n\u001b[0;32m     97\u001b[0m     \u001b[39m# import Image and use the Image.core variable instead.\u001b[39;00m\n\u001b[0;32m     98\u001b[0m     \u001b[39m# Also note that Image.core is not a publicly documented interface,\u001b[39;00m\n\u001b[0;32m     99\u001b[0m     \u001b[39m# and should be considered private and subject to change.\u001b[39;00m\n\u001b[1;32m--> 100\u001b[0m     \u001b[39mfrom\u001b[39;00m \u001b[39m.\u001b[39;00m \u001b[39mimport\u001b[39;00m _imaging \u001b[39mas\u001b[39;00m core\n\u001b[0;32m    102\u001b[0m     \u001b[39mif\u001b[39;00m __version__ \u001b[39m!=\u001b[39m \u001b[39mgetattr\u001b[39m(core, \u001b[39m\"\u001b[39m\u001b[39mPILLOW_VERSION\u001b[39m\u001b[39m\"\u001b[39m, \u001b[39mNone\u001b[39;00m):\n\u001b[0;32m    103\u001b[0m         \u001b[39mraise\u001b[39;00m \u001b[39mImportError\u001b[39;00m(\n\u001b[0;32m    104\u001b[0m             \u001b[39m\"\u001b[39m\u001b[39mThe _imaging extension was built for another version of Pillow or PIL:\u001b[39m\u001b[39m\\n\u001b[39;00m\u001b[39m\"\u001b[39m\n\u001b[0;32m    105\u001b[0m             \u001b[39mf\u001b[39m\u001b[39m\"\u001b[39m\u001b[39mCore version: \u001b[39m\u001b[39m{\u001b[39;00m\u001b[39mgetattr\u001b[39m(core,\u001b[39m \u001b[39m\u001b[39m'\u001b[39m\u001b[39mPILLOW_VERSION\u001b[39m\u001b[39m'\u001b[39m,\u001b[39m \u001b[39m\u001b[39mNone\u001b[39;00m)\u001b[39m}\u001b[39;00m\u001b[39m\\n\u001b[39;00m\u001b[39m\"\u001b[39m\n\u001b[0;32m    106\u001b[0m             \u001b[39mf\u001b[39m\u001b[39m\"\u001b[39m\u001b[39mPillow version: \u001b[39m\u001b[39m{\u001b[39;00m__version__\u001b[39m}\u001b[39;00m\u001b[39m\"\u001b[39m\n\u001b[0;32m    107\u001b[0m         )\n",
      "\u001b[1;31mImportError\u001b[0m: DLL load failed while importing _imaging: Le module spécifié est introuvable."
     ]
    }
   ],
   "source": [
    "# Here's the code that we get if we ask Copilot to write the matlab code above\n",
    "# in Python. It's not perfect, but it's a good start.\n",
    "\n",
    "import pandas as pd\n",
    "import numpy as np\n",
    "from sklearn.manifold import TSNE\n",
    "import matplotlib.pyplot as plt\n",
    "\n",
    "# Create a DataFrame with hot pepper data\n",
    "varietyNames = ['Habanero', 'Jalapeno', 'Serrano', 'Ghost Pepper', 'Scotch Bonnet']\n",
    "averageLength = [5.1, 4.3, 4.7, 6.8, 4.9]\n",
    "averageDiameter = [2.0, 2.5, 2.2, 2.8, 2.3]\n",
    "scovilleHeatUnits = [350000, 8000, 23000, 1000000, 200000]\n",
    "averagePetalLength = [1.5, 1.3, 1.4, 1.6, 1.4]\n",
    "averagePetalWidth = [0.7, 0.6, 0.8, 0.5, 0.7]\n",
    "averageLeafWidth = [2.5, 2.0, 2.2, 2.8, 2.4]\n",
    "averageLeafLength = [6.0, 5.5, 5.7, 7.2, 6.1]\n",
    "species = ['Capsicum chinense', 'Capsicum annuum', 'Capsicum annuum', 'Capsicum chinense', 'Capsicum chinense']\n",
    "colors = ['Red', 'Green', 'Green', 'Red', 'Orange']\n",
    "\n",
    "pepperData = {'Name': varietyNames, 'AvgLength': averageLength, 'AvgDiameter': averageDiameter, \n",
    "              'ScovilleHeatUnits': scovilleHeatUnits, 'AvgPetalLength': averagePetalLength, \n",
    "              'AvgPetalWidth': averagePetalWidth, 'AvgLeafWidth': averageLeafWidth, \n",
    "              'AvgLeafLength': averageLeafLength, 'Species': species, 'Color': colors}\n",
    "pepperTable = pd.DataFrame(pepperData)\n",
    "\n",
    "# Perform t-SNE on the feature data\n",
    "features = pepperTable[['AvgLength', 'AvgDiameter', 'ScovilleHeatUnits', 'AvgPetalLength', \n",
    "                        'AvgPetalWidth', 'AvgLeafWidth', 'AvgLeafLength']].values\n",
    "tsne = TSNE(n_components=2, random_state=0)\n",
    "mappedX = tsne.fit_transform(features)\n",
    "\n",
    "# Plot the t-SNE results\n",
    "fig, ax = plt.subplots()\n",
    "scatter = ax.scatter(mappedX[:,0], mappedX[:,1], s=50, c='b', marker='o', alpha=0.5)\n",
    "for i, txt in enumerate(pepperTable['Name']):\n",
    "    ax.annotate(txt, (mappedX[i,0], mappedX[i,1]), fontsize=8, ha='right', va='bottom')\n",
    "plt.title('t-SNE Visualization of Hot Pepper Varieties')\n",
    "plt.xlabel('t-SNE Dimension 1')\n",
    "plt.ylabel('t-SNE Dimension 2')\n",
    "plt.grid(True)\n",
    "plt.show()"
   ]
  },
  {
   "cell_type": "markdown",
   "metadata": {},
   "source": [
    "Look at the pepper "
   ]
  }
 ],
 "metadata": {
  "kernelspec": {
   "display_name": "tutorial_env",
   "language": "python",
   "name": "python3"
  },
  "language_info": {
   "codemirror_mode": {
    "name": "ipython",
    "version": 3
   },
   "file_extension": ".py",
   "mimetype": "text/x-python",
   "name": "python",
   "nbconvert_exporter": "python",
   "pygments_lexer": "ipython3",
   "version": "3.9.0"
  },
  "orig_nbformat": 4
 },
 "nbformat": 4,
 "nbformat_minor": 2
}
