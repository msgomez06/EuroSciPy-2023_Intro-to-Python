{
 "cells": [
  {
   "cell_type": "markdown",
   "metadata": {},
   "source": [
    "# Functions and Libraries\n",
    "In this notebook we'll be discussing _Functions_ and _Libraries_. \n",
    "\n",
    "Functions are a way to encapsulate (i.e., group) code that we want to reuse. We'll discuss the following aspects of functions:\n",
    "* Defining Functions\n",
    "* Function Arguments\n",
    "* Returning Values\n",
    "* Mutable vs. Immutable Arguments\n",
    "* Namespaces\n",
    "\n",
    "Libaries are a way to reuse code that others have written. We'll discuss the following aspects of libraries:\n",
    "* Importing Package Libraries\n",
    "* Importing Specific Functions"
   ]
  },
  {
   "cell_type": "markdown",
   "metadata": {},
   "source": [
    "## Functions\n",
    "\n",
    "Oftentimes when coding we will find ourselves repeating the same lines of code over and over again. This is not only tedious, but it also makes our code harder to read and more prone to errors. To avoid this, we can define functions that perform a specific task and can be called whenever we need them. \n",
    "\n",
    "These functions can take any number of inputs (including no inputs!) and output any number of outputs (including - you guessed it - no outputs). The inputs of a function are called its _arguments_, and the outputs of a function are called its _return values_."
   ]
  },
  {
   "cell_type": "code",
   "execution_count": 1,
   "metadata": {},
   "outputs": [
    {
     "name": "stdout",
     "output_type": "stream",
     "text": [
      "Hello, Milton!\n"
     ]
    }
   ],
   "source": [
    "# Let's take a look at the syntax for creating a function in Python.\n",
    "# The syntax for creating a function is:\n",
    "# def function_name(parameters):\n",
    "#     statement(s)\n",
    "#     return [expression]\n",
    "\n",
    "# The keyword `def`` tells Python that you are creating a function.\n",
    "# The `function_name` is the name of the function - it can be anything you want so \n",
    "# long as it follows the same rules as variable names.\n",
    "# The `parameters` are the inputs to the function. These are optional - i.e., you can\n",
    "# skip them if your function doesn't need any inputs to do its job.\n",
    "def simple_function():\n",
    "    # The statements are the code that the function will execute when it is called.\n",
    "    # The statements are indented to show that they are part of the function.\n",
    "\n",
    "    # This function will as the user for their name and then print it out.\n",
    "    name = input(\"What is your name? \")\n",
    "    print(\"Hello, \" + name + \"!\")\n",
    "\n",
    "    # The `return` statement is optional. If you don't include it, the function will\n",
    "    # return `None` when it is called.\n",
    "\n",
    "# We've defined a function - but if you just define it it will never actually run.\n",
    "# To run a function, you need to _call_ it. This is done by typing the name of the\n",
    "# function followed by parentheses.\n",
    "simple_function()\n"
   ]
  },
  {
   "cell_type": "code",
   "execution_count": 15,
   "metadata": {},
   "outputs": [
    {
     "name": "stdout",
     "output_type": "stream",
     "text": [
      "5050\n"
     ]
    }
   ],
   "source": [
    "# Now let's try to write a function that takes in a list of numbers\n",
    "# and returns the sum of the numbers in the list.\n",
    "\n",
    "def sum_operator(numbers):\n",
    "    # We initialize the total to 0\n",
    "    total = 0\n",
    "\n",
    "    # We first _assert_ that the input is a list.\n",
    "    # The assert function will raise an error if the conditional that \n",
    "    # follows it is not true. The string that follows the conditional\n",
    "    # is the error message that will be displayed if the conditional\n",
    "    # is not true.\n",
    "    \n",
    "    # The type function returns the type of the input.\n",
    "    assert type(numbers) == list, \"Input must be a list\"\t\n",
    "    \n",
    "    # We loop through the list of numbers\n",
    "    for number in numbers:\n",
    "        total += number\n",
    "    \n",
    "    # We return the total\n",
    "    return total\n",
    "\n",
    "# Let's test our function\n",
    "print(sum_operator(list(range(1,101))))"
   ]
  },
  {
   "cell_type": "markdown",
   "metadata": {},
   "source": [
    "### Namespaces\n",
    "\n",
    "Now that we've looked at how functions are defined, we need to have a conversation about _namespaces_.  A _namespace_ is a collection of names that are defined in a particular context.  For example, the Python interpreter has a namespace that contains all of the names that are defined in the Python standard library.  \n",
    "\n",
    "When you define a function, you are adding the name of that function to the current namespace.  When you define a variable, you are adding the name of that variable to the current namespace. In essence, whenever you a name is associated with code or a value in Python, it is added to the current namespace.  The current namespace is the set of names that are available to the Python interpreter at any given time.\n",
    "\n",
    "One important point is that the namespace within a function is different from the namespace outside of a function.  This means that you can have a function and a variable with the same name, and they will not conflict with each other.  However, the namespace within the function has access to the namespace outside of the function.  This means that you can use variables that are defined outside of a function within the function.  This is called _scope_.\n",
    "\n",
    "Let's look at an example of how this affects your code."
   ]
  },
  {
   "cell_type": "code",
   "execution_count": 17,
   "metadata": {},
   "outputs": [
    {
     "name": "stdout",
     "output_type": "stream",
     "text": [
      "JOHN\n",
      "John\n"
     ]
    }
   ],
   "source": [
    "# Let's define a function that takes a name and prints it in capital letters\n",
    "def print_uppercase_name(name):\n",
    "    name = name.upper()\n",
    "    print(name)\n",
    "\n",
    "# As you can see, the function overwrites name with the upper case version\n",
    "# of itself and prints it. However, if you pass a variable to the function,\n",
    "# the variable itself is not changed\n",
    "name = \"John\"\n",
    "\n",
    "print_uppercase_name(name)\n",
    "print(name)"
   ]
  },
  {
   "cell_type": "code",
   "execution_count": 18,
   "metadata": {},
   "outputs": [
    {
     "name": "stdout",
     "output_type": "stream",
     "text": [
      "['John', 'Paul', 'George', 'Ringo', 'Marcus', 'George']\n"
     ]
    }
   ],
   "source": [
    "# Whatever happens in the function stays in the function \n",
    "# UNLESS THE OBJECT IS MUTABLE, IN WHICH CASE IT CAN BE CHANGED\n",
    "# Let's try it with a list\n",
    "\n",
    "def my_function(my_list):\n",
    "    my_list.append(input('Enter a name:'))\n",
    "\n",
    "# Let's initialize a list\n",
    "my_list = ['John', 'Paul', 'George', 'Ringo']\n",
    "\n",
    "# and call the function 2 times\n",
    "my_function(my_list)\n",
    "my_function(my_list)\n",
    "\n",
    "# Let's see what's in the list now\n",
    "print(my_list)\n",
    "\n",
    "# You should see the names you entered in the list - this is\n",
    "# because lists are mutable... so be careful when passing mutable\n",
    "# objects to functions!"
   ]
  },
  {
   "cell_type": "code",
   "execution_count": 25,
   "metadata": {},
   "outputs": [
    {
     "name": "stdout",
     "output_type": "stream",
     "text": [
      "$100 to EUR: 90.91\n",
      "€90.91 to USD: 100.00\n",
      "100 CHF to USD: 110.00\n"
     ]
    }
   ],
   "source": [
    "# It's also important to remember that the namespace within the function\n",
    "# inherits the namespace from the parent. This means that if you have a\n",
    "# variable in the parent namespace, it will be available in the function\n",
    "# namespace. If you're not careful, this can lead to some unexpected\n",
    "# behavior.\n",
    "\n",
    "# Let's look at an example of this. Let's pretend we have a function that\n",
    "# converts one currency to another. We'll call it convert_currency.\n",
    "\n",
    "# Let's define the base currency and the conversion rate in the parent\n",
    "# namespace. Let's pretend we first want to convert from USD to EUR.\n",
    "currency = \"USD\"\n",
    "conversion_rate = 1.1\n",
    "\n",
    "def convert_currency(currency, amount):\n",
    "    if currency == \"USD\":\n",
    "        return 0.90909091 * amount\n",
    "    elif currency == \"EUR\":\n",
    "        return 1.10 * amount\n",
    "    return amount * conversion_rate\n",
    "\n",
    "# We can see that the function works as expected.\n",
    "print(f'$100 to EUR: {convert_currency(\"USD\", 100):.2f}')\n",
    "print(f'€90.91 to USD: {convert_currency(\"EUR\", 90.91):.2f}')\n",
    "\n",
    "# But what happens if we try to convert from Swiss Francs?\n",
    "print(f'100 CHF to USD: {convert_currency(\"CHF\", 100):.2f}')\n",
    "# Because the conversion_rate variable is defined in the parent namespace,\n",
    "# and we don't have a local variable named conversion_rate, the function\n",
    "# will use the value from the parent namespace. This is probably not what\n",
    "# we want. We can fix this by defining the conversion_rate variable in the\n",
    "# function namespace."
   ]
  },
  {
   "cell_type": "code",
   "execution_count": null,
   "metadata": {},
   "outputs": [],
   "source": [
    "# Let's redefine our function to convert from USD to EUR so that\n",
    "# conversion_rate is defined within the function namespace.\n",
    "def convert_currency(currency, amount):\n",
    "    if currency == \"USD\":\n",
    "        conversion_rate = 0.90909091\n",
    "    elif currency == \"EUR\":\n",
    "        conversion_rate = 1.10\n",
    "    return amount * conversion_rate\n",
    "\n",
    "# Now if we try to convert from Swiss Francs, we get an error.\n",
    "# Try it out!"
   ]
  },
  {
   "cell_type": "markdown",
   "metadata": {},
   "source": [
    "## Libraries\n",
    "\n",
    "As you can imagine, there are several functions that can be used over and over again in programming, and we don't want to be writing them from scratch all the time. Additionally, it's good if we have efficient implementations of these functions, so that we don't have to worry about optimizing them ourselves. For this reason, we have libraries of functions that we can use in our programs.\n",
    "\n",
    "Python is an open-source language, which means that anyone can contribute to the language by writing libraries. There are many libraries that are already available for us to use, and we can also write our own libraries. Let's take a look at how to use some common libraries."
   ]
  },
  {
   "cell_type": "code",
   "execution_count": 28,
   "metadata": {},
   "outputs": [],
   "source": [
    "# In order to use libraries, we need to _import_ them. This is done with the\n",
    "# `import` keyword.\n",
    "import os\n",
    "\n",
    "# We can also give the library a nickname, so that we don't have to type\n",
    "# out the full name every time we want to use it. For example, we can\n",
    "# import the `math` library and give it the nickname `m`:\n",
    "import math as m"
   ]
  },
  {
   "cell_type": "code",
   "execution_count": null,
   "metadata": {},
   "outputs": [],
   "source": [
    "# If you don't know how to use the library, you can type in help(thing_you_need_help_with) in the console\n",
    "# or go to the documentation page of the library\n",
    "help(os)"
   ]
  },
  {
   "cell_type": "code",
   "execution_count": null,
   "metadata": {},
   "outputs": [],
   "source": [
    "help(os.listdir)"
   ]
  },
  {
   "cell_type": "code",
   "execution_count": null,
   "metadata": {},
   "outputs": [],
   "source": [
    "# You can also get a list of all of the objects and functions in a module using the dir() function.\n",
    "dir(m)"
   ]
  },
  {
   "cell_type": "code",
   "execution_count": 33,
   "metadata": {},
   "outputs": [
    {
     "name": "stdout",
     "output_type": "stream",
     "text": [
      "4.0\n"
     ]
    }
   ],
   "source": [
    "# Let's try using the math library to calculate the square root of 16\n",
    "root = m.sqrt(16)\n",
    "print(root)"
   ]
  },
  {
   "cell_type": "code",
   "execution_count": 34,
   "metadata": {},
   "outputs": [
    {
     "name": "stdout",
     "output_type": "stream",
     "text": [
      "Light travels at 299792458.0 m/s in a vacuum.\n"
     ]
    }
   ],
   "source": [
    "# Sometimes, you may not want to import an entire library. Let's pretend we only want\n",
    "# to use the speed_of_light variable from the scipy.constants library. We can do this\n",
    "# by using the from keyword.\n",
    "from scipy.constants import speed_of_light as c\n",
    "\n",
    "print(f'Light travels at {c} m/s in a vacuum.')"
   ]
  },
  {
   "cell_type": "markdown",
   "metadata": {},
   "source": [
    "This marks the end of the notebook on functions and libraries. Congratulations on reaching the end! We'll be starting with the object oriented programming notebook in a bit - until then feel free to take a break - we're almost done for today!"
   ]
  }
 ],
 "metadata": {
  "kernelspec": {
   "display_name": "Python 3 (ipykernel)",
   "language": "python",
   "name": "python3"
  },
  "language_info": {
   "codemirror_mode": {
    "name": "ipython",
    "version": 3
   },
   "file_extension": ".py",
   "mimetype": "text/x-python",
   "name": "python",
   "nbconvert_exporter": "python",
   "pygments_lexer": "ipython3",
   "version": "3.9.12"
  }
 },
 "nbformat": 4,
 "nbformat_minor": 4
}
