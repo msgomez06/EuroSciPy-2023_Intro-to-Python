{
 "cells": [
  {
   "cell_type": "markdown",
   "id": "56a8448c",
   "metadata": {},
   "source": [
    "# Flow Control\n",
    "In this notebook, we'll discuss _Flow Control_ in Python. By flow control, we refer to the order in which code is executed or evaluated. We'll discuss the following topics:\n",
    "* Conditional Statements\n",
    "* Loops\n",
    "* List Comprehensions\n",
    "\n",
    "By the end of this notebook, you should be able to:\n",
    "1. Identify conditional statements and their constituent parts\n",
    "2. Recognize the role of indentation in Python\n",
    "3. Recognize the role of conditional statements in controlling your code\n",
    "4. Identify loops and their constituent parts\n",
    "5. Differentiate between `for` and `while` loops\n",
    "6. Understand the role of containers and iterators in for loops\n",
    "7. Recognize the format of list comprehensions\n",
    "8. Recognize the role of loops in controlling your code"
   ]
  },
  {
   "cell_type": "markdown",
   "id": "a6b31597",
   "metadata": {},
   "source": [
    "## Conditional Statements\n",
    "\n",
    "Conditional statements take the form of logical expressions that evaluate to either `True` or `False` (thinking back on variable types, they evaluate to Boolean value). The simplest conditional statement is an `if` statement. The `if` statement evaluates a logical expression and executes a block of code if the expression evaluates to `True`. \n",
    "\n",
    "### The `if` statement\n",
    "In Python, we can use the `if` keyword to start a conditional statement, and follow it with the expression to be evaluated, and a colon (`:`) to indicate the start of a block of code. The rest of the line can contain the code to be run (if it is short enough), or the code can be placed on the next line, indented by a tab or four spaces. The code block ends when the indentation ends. "
   ]
  },
  {
   "cell_type": "code",
   "execution_count": null,
   "id": "522f3f90",
   "metadata": {},
   "outputs": [],
   "source": [
    "# Let's make a set of vegetables\n",
    "vegetables = ['carrot', 'lettuce', 'onion', 'radish', 'broccoli']\n",
    "\n",
    "# And now let's define a value for a vegetable we want to find\n",
    "vegetable_to_find = 'onion'\n",
    "\n",
    "# Let's use an if statement that will print out a message if the vegetable is found\n",
    "if vegetable_to_find in vegetables:\n",
    "    print(f\"Found a(n) {vegetable_to_find}!\")\n",
    "    # Notice that the print statement is indented. This is how Python knows that it is part of the if statement\n",
    "\n",
    "# This line is not indented, so it is not part of the if statement and\n",
    "# will be executed regardless of whether the vegetable is found\n",
    "print(f\"We tried to find a(n) {vegetable_to_find}!\") "
   ]
  },
  {
   "cell_type": "markdown",
   "id": "8d4fc9b7",
   "metadata": {},
   "source": [
    "### The `else` clause\t\n",
    "Sometimes we want to execute a first block of code if a condition is met, and a second block of code if it is not. This is called an if-else statement."
   ]
  },
  {
   "cell_type": "code",
   "execution_count": null,
   "id": "c7ef3283",
   "metadata": {},
   "outputs": [],
   "source": [
    "# Let's define a variable storing the name of a type of fruit\n",
    "fruit = 'apple'\n",
    "\n",
    "# Let's write a conditional statement that prints out a message\n",
    "# saying that we want to eat the fruit, but let's make sure it\n",
    "# uses the correct indefinite article (a or an) depending on the\n",
    "# first letter of the fruit's name\n",
    "if fruit[0] in 'aeiou':\n",
    "    print('I want to eat an ' + fruit)\n",
    "else:\n",
    "    print('I want to eat a ' + fruit)\n"
   ]
  },
  {
   "cell_type": "markdown",
   "id": "b856bffc",
   "metadata": {},
   "source": [
    "### The `elif` Statement\n",
    "\n",
    "Sometimes we want to check for multiple conditions, each of which may lead to a different outcome. The `elif` statement is used in these cases. It is short for \"else if\", and can be used as many times as you want following an `if` statement. The `else` statement is a catch-all for any condition that isn't covered by the previous conditions."
   ]
  },
  {
   "cell_type": "code",
   "execution_count": null,
   "id": "84b74fc3",
   "metadata": {},
   "outputs": [],
   "source": [
    "# Let's try a simple example for testing elif statements\n",
    "\n",
    "# We'll use the input function to get a number from the user\n",
    "# The input function returns a string, so we'll need to convert it to an integer\n",
    "number = int(input(\"Enter a number: \"))\n",
    "\n",
    "# Now we'll use the if, elif, else statements to test the number\n",
    "if number < 0:\n",
    "    print(\"The number is negative\")\n",
    "elif number == 0:\n",
    "    print(\"The number is zero\")\n",
    "else:\n",
    "    print(\"The number is positive\")"
   ]
  },
  {
   "cell_type": "markdown",
   "id": "e538d2a4",
   "metadata": {},
   "source": [
    "### Extra Information on Conditional Statements - Structural Pattern Matching\n",
    "Python 3.10 and higher has a new feature called structural pattern matching. It is a generalization of the `switch` statement found in other languages. It is a powerful tool for writing code that is easy to read and maintain.\n",
    "\n",
    "The basic syntax is:\n",
    "\n",
    "```python\n",
    "match <expression>:\n",
    "    case <pattern>:\n",
    "        <action>\n",
    "    case <pattern> if <condition>:\n",
    "        <action>\n",
    "    case <pattern> | <pattern>:\n",
    "        <action>\n",
    "    case _:\n",
    "        <action>\n",
    "```\n",
    "\n",
    "The `<expression>` is evaluated and then compared to each `<pattern>` in order. If a match is found, the corresponding `<action>` is executed. If no match is found, a `MatchError` is raised. The `case _:` is a catch-all pattern that matches anything.\n",
    "\n",
    "We developed the notebook using Python 3.9, so we won't provide examples that use structural pattern matching. However, we encourage you to explore this feature on your own time - it's a great way to make your code more readable and maintainable!"
   ]
  },
  {
   "cell_type": "markdown",
   "id": "588a02c4",
   "metadata": {},
   "source": [
    "### What is True? What is False? Truthiness and Falsiness in Python\n",
    "\n",
    "As you can imagine, the expressions following the `if` statements in the previous code cells evaluate to `True` or `False`. However, Python doesn't require that the expression evaluate to a boolean. \n",
    "\n",
    "There are a number of values that Python considers `True` - so called **Truthy** values. These include `True`, `1`, `1.0`, and non-empty sequences (e.g. lists, tuples, strings).\n",
    "\n",
    "As you can imagine, there are also a number of values that Python considers `False` - so called **Falsy** values. These include `False`, `0`, `0.0`, `None`, and empty sequences (e.g. lists `[]`, tuples `()`, and strings `''`)."
   ]
  },
  {
   "cell_type": "code",
   "execution_count": null,
   "id": "98131f0a",
   "metadata": {},
   "outputs": [],
   "source": [
    "# There's a more compact way of writing if-else statements\n",
    "# called a conditional expression. It's a conditional statement\n",
    "# that evaluates to an expression instead of a statement.\n",
    "# It's also called a ternary operator because it takes three\n",
    "# arguments. The syntax is:\n",
    "# <expression1> if <condition> else <expression2>\n",
    "\n",
    "#Let's use it to try out some truthy and falsey values\n",
    "print('Truthy') if None else print('Falsey')"
   ]
  },
  {
   "cell_type": "markdown",
   "id": "c55d2a10-0b58-42cd-b89d-fece668e3f83",
   "metadata": {},
   "source": [
    "## Loops\n",
    "\n",
    "Loops are used to repeat a block of code multiple times. There are two types of loops in Python, `for` loops and `while` loops.\n",
    "\n",
    "### While loops\n",
    "While loops are similar to conditional statements, except the code inside the loop will be executed as long as the condition is true. There are two ways for the loop to be exited: the condition becomes false, or a `break` statement is encountered.\n"
   ]
  },
  {
   "cell_type": "code",
   "execution_count": null,
   "id": "0bee6927",
   "metadata": {},
   "outputs": [],
   "source": [
    "# We'll write a block of code that will ask a user to input a name,\n",
    "# continuing to ask until the list of names is 6 names long.\n",
    "\n",
    "# We'll use a while loop to do this.\n",
    "\n",
    "# First, we'll create an empty list to store the names in.\n",
    "names = []\n",
    "\n",
    "# We'll use a while loop to keep asking for names until the list has 6 names in it, or until\n",
    "# the user enters \"quit\".\n",
    "while len(names) < 6:\n",
    "    # Ask the user for a name.\n",
    "    # Input is a function that will ask the user for input, and the argument is the prompt\n",
    "    # shown to the user. The user's input will be returned as a string and stored in the \n",
    "    # variable name.\n",
    "    name = input(\"Please enter a name: \")\n",
    "    \n",
    "    if name == \"quit\":\n",
    "        # If the user enters \"quit\", we'll break out of the loop.\n",
    "        break\n",
    "    \n",
    "    # Add the name to the list.\n",
    "    names.append(name)\n",
    "\n",
    "# Print the list of names.\n",
    "print(names)"
   ]
  },
  {
   "cell_type": "code",
   "execution_count": null,
   "id": "7634d1f6",
   "metadata": {},
   "outputs": [],
   "source": [
    "# Optional Exercise\n",
    "# Write a program that runs until the user inputs a sentence that is at least 15 characters long, or\n",
    "# until they enter the character 'q', in which case the program should quit. If the user doesn't\n",
    "# enter a sentence that is at least 15 characters long, or they enter 'q', the program should print\n",
    "# \"Too short\" and then ask the user for another sentence. If the user enters a sentence that is at\n",
    "# least 15 characters long, the program should print \"Thank you\" and then quit.\n",
    "\n",
    "## YOUR CODE GOES BELOW THIS LINE ##"
   ]
  },
  {
   "cell_type": "markdown",
   "id": "96caede1",
   "metadata": {},
   "source": [
    "### For Loops\n",
    "\n",
    "Unlike while loops, for loops are used for iterating a fixed number of times. In Python, for loops iterate over the items of a given sequence, whether that is a list, tuple, string, or other iterable objects.\n",
    "\n",
    "Let's take this moment to introduce the `range()` function. `range()` is a built-in function used to create an immutable sequence of numbers. It can be used in a for loop to iterate through a sequence of numbers. The syntax for `range()` is `range(start, stop, step)`. The `start` and `step` arguments are optional, and `start` defaults to 0 while `step` defaults to 1. The `stop` argument is required, and it is not included in the sequence. "
   ]
  },
  {
   "cell_type": "code",
   "execution_count": null,
   "id": "8bfd3a1f",
   "metadata": {},
   "outputs": [],
   "source": [
    "# Let's write a for loop that generates the first 10 numbers in the Fibonacci sequence.\n",
    "# The Fibonacci sequence is defined as follows:\n",
    "# The first two numbers in the sequence are 0 and 1.\n",
    "# The subsequent numbers are the sum of the previous two.\n",
    "\n",
    "# The first 10 numbers are:\n",
    "# 0, 1, 1, 2, 3, 5, 8, 13, 21, 34\n",
    "\n",
    "# Let's initialize the first two numbers in the sequence.\n",
    "fibonacci = [0, 1]\n",
    "\n",
    "# Now let's write a for loop that generates the next 8 numbers in the sequence.\n",
    "for i in range(8):\n",
    "    # We add the last two numbers in the sequence and append the result to the list.\n",
    "    fibonacci.append(fibonacci[-1] + fibonacci[-2])\n",
    "    # And we print the last number in the sequence.\n",
    "    print(fibonacci[-1])\n",
    "\n",
    "# Note that you can easily change the number of iterations in the for loop to generate more numbers in the sequence.\n",
    "\n",
    "# And we can print the entire sequence.\n",
    "print(fibonacci)"
   ]
  },
  {
   "cell_type": "code",
   "execution_count": null,
   "id": "aed3907c",
   "metadata": {},
   "outputs": [],
   "source": [
    "# We can also iterate over other data types, such as lists and tuples.\n",
    "# Let's write a simple loop that will ask the user to determine if the student\n",
    "# is present or absent.\n",
    "\n",
    "# Let's create a list of students in our class.\n",
    "students = ['Aaron', 'Brenda', 'Cathy', 'David', 'Emily', 'Frank', 'Gina', 'Hank']\n",
    "\n",
    "# Now, let's iterate over the list of students and ask the user if they are present.\n",
    "for student in students:\n",
    "    attendance = input(\"Is \" + student + \" present? (y/n) \")\n",
    "    if attendance == 'y':\n",
    "        print(student + \" is present.\")\n",
    "    else:\n",
    "        print(student + \" is absent.\")\n"
   ]
  },
  {
   "cell_type": "code",
   "execution_count": null,
   "id": "2f0238fb",
   "metadata": {},
   "outputs": [],
   "source": [
    "# Sometimes, we want to use the index of an item in a list to access another list.\n",
    "# For example, we might want to use the index of a student's name to find their grade in a separate list.\n",
    "# We can do this by using the enumerate() function.\n",
    "# enumerate() takes a list as a parameter and returns a tuple for each item in the list.\n",
    "# The first value of the tuple is the index and the second value is the item itself.\n",
    "\n",
    "# Let's look at an example.\n",
    "# We have a list of students and a list of their grades.\n",
    "students = ['Alex', 'Briana', 'Cheri', 'Daniele', 'Dora', 'Minerva']\n",
    "grades = [85, 70, 82, 66, 95, 100]\n",
    "\n",
    "# Let's iterate through the students list and print out each student's name and their grade.\n",
    "# We can use the enumerate() function to get the index and the value of each item in the list.\n",
    "# We'll call the index variable idx and the value variable name.\n",
    "for idx, name in enumerate(students):\n",
    "    print(f'{name} received a grade of {grades[idx]}')"
   ]
  },
  {
   "cell_type": "code",
   "execution_count": null,
   "id": "e7161613",
   "metadata": {},
   "outputs": [],
   "source": [
    "# Optional Exercise\n",
    "\n",
    "# This list contains the name, age, and address of five people. Write a for loop that\n",
    "# prints each person's information in the following sentence format:\n",
    "# \"<name> is <age> years old and lives in <address>.\"\n",
    "\n",
    "people = [\n",
    "    [\"Romain\", 25, \"Lausanne\"],\n",
    "    [\"Marie\", 30, \"Geneva\"],\n",
    "    [\"John\", 40, \"Zurich\"],\n",
    "    [\"Arthur\", 20, \"Bern\"],\n",
    "    [\"Annika\", 35, \"Basel\"],\n",
    "    ]\n",
    "\n",
    "# YOUR CODE GOES BELOW THIS LINE"
   ]
  },
  {
   "cell_type": "markdown",
   "id": "4c4b8def",
   "metadata": {},
   "source": [
    "### List Comprehensions\n",
    "List comprehensions are an elegant way to build a list without having to use different for loops to append values one by one. \n",
    "A list comprehension consists of brackets containing an expression followed by a for clause, then zero or more for or if clauses. The expressions can be anything, meaning you can put in all kinds of objects in lists.\n",
    "\n",
    "Do, however, try to keep it simple - the readability of the code is more important than trying to squeeze it all into a single line. Every list comprehension can be rewritten in for loop, but every for loop can’t be rewritten in the form of list comprehension."
   ]
  },
  {
   "cell_type": "code",
   "execution_count": null,
   "id": "b13a17f4",
   "metadata": {},
   "outputs": [],
   "source": [
    "# Let's show a simple example of a list comprehension.\n",
    "# Suppose we have a list of numbers and we want to create a new list\n",
    "# with the squares of the numbers in the first list.  We could do this\n",
    "#  with a for loop, but it's easier to do it with a list comprehension.\n",
    "\n",
    "# First, let's create a list of numbers.\n",
    "numbers = [1, 2, 3, 4, 5, 6, 7, 8, 9]\n",
    "\n",
    "# Now, let's create a new list with the squares of the numbers in the\n",
    "# first list.\n",
    "squares = [x**2 for x in numbers]\n",
    "\n",
    "# Let's print the squares list.\n",
    "print(squares)"
   ]
  },
  {
   "cell_type": "code",
   "execution_count": null,
   "id": "859f527e",
   "metadata": {},
   "outputs": [],
   "source": [
    "# We can also do the same thing but only square the even numbers\n",
    "# by adding an if statement to the end of the list comprehension.\n",
    "even_squares = [x**2 for x in numbers if x % 2 == 0]\n",
    "\n",
    "# Let's print the even_squares list.\n",
    "print(even_squares)"
   ]
  },
  {
   "cell_type": "code",
   "execution_count": null,
   "id": "86c5c1f9",
   "metadata": {},
   "outputs": [],
   "source": [
    "# You can even print straight from the list comprehension. Since print()\n",
    "# doesn't return anything, it will print the list and return None. If this\n",
    "# sentence doesn't make sense, don't worry about it. We'll be covering\n",
    "# functions and return values in the next notebook.\n",
    "\n",
    "# Let's print out the squares of the odd numbers.\n",
    "returned_vals = [print(x**2) for x in numbers if x % 2 == 1]\n",
    "# Note that we printed each value individually - we didn't print the list.\n",
    "# We also assigned the return value of the list comprehension to a variable.\n",
    "\n",
    "# Let's print the returned_vals variable.\n",
    "print(returned_vals)"
   ]
  }
 ],
 "metadata": {
  "kernelspec": {
   "display_name": "Python 3 (ipykernel)",
   "language": "python",
   "name": "python3"
  },
  "language_info": {
   "codemirror_mode": {
    "name": "ipython",
    "version": 3
   },
   "file_extension": ".py",
   "mimetype": "text/x-python",
   "name": "python",
   "nbconvert_exporter": "python",
   "pygments_lexer": "ipython3",
   "version": "3.9.0"
  }
 },
 "nbformat": 4,
 "nbformat_minor": 5
}
