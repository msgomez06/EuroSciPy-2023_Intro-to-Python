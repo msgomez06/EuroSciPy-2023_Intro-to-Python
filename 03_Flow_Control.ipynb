{
 "cells": [
  {
   "cell_type": "markdown",
   "id": "56a8448c",
   "metadata": {},
   "source": [
    "# Flow Control\n",
    "In this notebook, we'll discuss _Flow Control_ in Python. By flow control, we refer to the order in which code is executed or evaluated. We'll discuss the following topics:\n",
    "* Conditional Statements\n",
    "* Loops\n",
    "* List Comprehensions\n",
    "\n",
    "By the end of this notebook, you should be able to:\n",
    "* Identify conditional statements and their constituent parts\n",
    "* Recognize the role of indentation in Python\n",
    "* Understand how to use conditional statements to control your code\n",
    "* Identify loops and their constituent parts\n",
    "* Differentiate between `for` and `while` loops\n",
    "* Understand the role of containers and iterators in loops\n",
    "* Recognize the format of list comprehensions\n",
    "* Understand how to use loops to control your code"
   ]
  },
  {
   "cell_type": "markdown",
   "id": "a6b31597",
   "metadata": {},
   "source": [
    "## Conditional Statements\n",
    "\n",
    "Conditional statements take the form of logical expressions that evaluate to either `True` or `False` (thinking back on variable types, they evaluate to Boolean value). The simplest conditional statement is an `if` statement. The `if` statement evaluates a logical expression and executes a block of code if the expression evaluates to `True`. \n",
    "\n",
    "### The `if` statement\n",
    "In Python, we can use the `if` keyword to start a conditional statement, and follow it with the expression to be evaluated, and a colon (`:`) to indicate the start of a block of code. The rest of the line can contain the code to be run (if it is short enough), or the code can be placed on the next line, indented by a tab or four spaces. The code block ends when the indentation ends. "
   ]
  },
  {
   "cell_type": "code",
   "execution_count": 6,
   "id": "522f3f90",
   "metadata": {},
   "outputs": [
    {
     "name": "stdout",
     "output_type": "stream",
     "text": [
      "Found a(n) onion!\n",
      "Note that the expression vegetable_to_find in vegetables evaluates to True\n",
      "We tried to find a(n) onion!\n"
     ]
    }
   ],
   "source": [
    "# Let's make a set of vegetables\n",
    "vegetables = ['carrot', 'lettuce', 'onion', 'radish', 'broccoli']\n",
    "\n",
    "# And now let's define a value for a vegetable we want to find\n",
    "vegetable_to_find = 'onion'\n",
    "\n",
    "# Let's use an if statement that will print out a message if the vegetable is found\n",
    "if vegetable_to_find in vegetables:\n",
    "    print(f\"Found a(n) {vegetable_to_find}!\")\n",
    "    # Notice that the print statement is indented. This is how Python knows that it is part of the if statement\n",
    "\n",
    "# This line is not indented, so it is not part of the if statement and\n",
    "# will be executed regardless of whether the vegetable is found\n",
    "print(f\"We tried to find a(n) {vegetable_to_find}!\") "
   ]
  },
  {
   "cell_type": "markdown",
   "id": "8d4fc9b7",
   "metadata": {},
   "source": [
    "### The `else` clause\t\n",
    "Sometimes we want to execute a first block of code if a condition is met, and a second block of code if it is not. This is called an if-else statement."
   ]
  },
  {
   "cell_type": "code",
   "execution_count": 8,
   "id": "c7ef3283",
   "metadata": {},
   "outputs": [
    {
     "name": "stdout",
     "output_type": "stream",
     "text": [
      "I want to eat an apple\n"
     ]
    }
   ],
   "source": [
    "# Let's define a variable storing the name of a type of fruit\n",
    "fruit = 'apple'\n",
    "\n",
    "# Let's write a conditional statement that prints out a message\n",
    "# saying that we want to eat the fruit, but let's make sure it\n",
    "# uses the correct indefinite article (a or an) depending on the\n",
    "# first letter of the fruit's name\n",
    "if fruit[0] in 'aeiou':\n",
    "    print('I want to eat an ' + fruit)\n",
    "else:\n",
    "    print('I want to eat a ' + fruit)\n"
   ]
  },
  {
   "cell_type": "markdown",
   "id": "b856bffc",
   "metadata": {},
   "source": [
    "### The `elif` Statement\n",
    "\n",
    "Sometimes we want to check for multiple conditions, each of which may lead to a different outcome. The `elif` statement is used in these cases. It is short for \"else if\", and can be used as many times as you want following an `if` statement. The `else` statement is a catch-all for any condition that isn't covered by the previous conditions."
   ]
  },
  {
   "cell_type": "code",
   "execution_count": 9,
   "id": "84b74fc3",
   "metadata": {},
   "outputs": [
    {
     "name": "stdout",
     "output_type": "stream",
     "text": [
      "The number is positive\n"
     ]
    }
   ],
   "source": [
    "# Let's try a simple example for testing elif statements\n",
    "\n",
    "# We'll use the input function to get a number from the user\n",
    "# The input function returns a string, so we'll need to convert it to an integer\n",
    "number = int(input(\"Enter a number: \"))\n",
    "\n",
    "# Now we'll use the if, elif, else statements to test the number\n",
    "if number < 0:\n",
    "    print(\"The number is negative\")\n",
    "elif number == 0:\n",
    "    print(\"The number is zero\")\n",
    "else:\n",
    "    print(\"The number is positive\")"
   ]
  },
  {
   "cell_type": "markdown",
   "id": "e538d2a4",
   "metadata": {},
   "source": [
    "### Extra Information on Conditional Statements - Structural Pattern Matching\n",
    "Python 3.10 and higher has a new feature called structural pattern matching. It is a generalization of the `switch` statement found in other languages. It is a powerful tool for writing code that is easy to read and maintain.\n",
    "\n",
    "The basic syntax is:\n",
    "\n",
    "```python\n",
    "match <expression>:\n",
    "    case <pattern>:\n",
    "        <action>\n",
    "    case <pattern> if <condition>:\n",
    "        <action>\n",
    "    case <pattern> | <pattern>:\n",
    "        <action>\n",
    "    case _:\n",
    "        <action>\n",
    "```\n",
    "\n",
    "The `<expression>` is evaluated and then compared to each `<pattern>` in order. If a match is found, the corresponding `<action>` is executed. If no match is found, a `MatchError` is raised. The `case _:` is a catch-all pattern that matches anything.\n",
    "\n",
    "We developed the notebook using Python 3.9, so we won't provide examples that use structural pattern matching. However, we encourage you to explore this feature on your own time - it's a great way to make your code more readable and maintainable!"
   ]
  },
  {
   "cell_type": "markdown",
   "id": "588a02c4",
   "metadata": {},
   "source": [
    "### What is True? What is False? Truthiness and Falsiness in Python\n",
    "\n",
    "As you can imagine, the expressions following the `if` statements in the previous code cells evaluate to `True` or `False`. However, Python doesn't require that the expression evaluate to a boolean. \n",
    "\n",
    "There are a number of values that Python considers `True` - so called **Truthy** values. These include `True`, `1`, `1.0`, and non-empty sequences (e.g. lists, tuples, strings).\n",
    "\n",
    "As you can imagine, there are also a number of values that Python considers `False` - so called **Falsy** values. These include `False`, `0`, `0.0`, `None`, and empty sequences (e.g. lists `[]`, tuples `()`, and strings `''`)."
   ]
  },
  {
   "cell_type": "code",
   "execution_count": 20,
   "id": "98131f0a",
   "metadata": {},
   "outputs": [
    {
     "name": "stdout",
     "output_type": "stream",
     "text": [
      "Falsey\n"
     ]
    }
   ],
   "source": [
    "# There's a more compact way of writing if-else statements\n",
    "# called a conditional expression. It's a conditional statement\n",
    "# that evaluates to an expression instead of a statement.\n",
    "# It's also called a ternary operator because it takes three\n",
    "# arguments. The syntax is:\n",
    "# <expression1> if <condition> else <expression2>\n",
    "\n",
    "#Let's use it to try out some truthy and falsey values\n",
    "print('Truthy') if None else print('Falsey')"
   ]
  },
  {
   "cell_type": "markdown",
   "id": "c55d2a10-0b58-42cd-b89d-fece668e3f83",
   "metadata": {},
   "source": [
    "## Loops\n",
    "\n",
    "Loops are used to repeat a block of code multiple times. There are two types of loops in Python, `for` loops and `while` loops.\n",
    "\n",
    "### While loops\n",
    "While loops are similar to conditional statements, except the code inside the loop will be executed as long as the condition is true. There are two ways for the loop to be exited: the condition becomes false, or a `break` statement is encountered.\n"
   ]
  },
  {
   "cell_type": "code",
   "execution_count": 23,
   "id": "0bee6927",
   "metadata": {},
   "outputs": [
    {
     "name": "stdout",
     "output_type": "stream",
     "text": [
      "['Mike']\n"
     ]
    }
   ],
   "source": [
    "# We'll write a block of code that will ask a user to input a name,\n",
    "# continuing to ask until the list of names is 6 names long.\n",
    "\n",
    "# We'll use a while loop to do this.\n",
    "\n",
    "# First, we'll create an empty list to store the names in.\n",
    "names = []\n",
    "\n",
    "# We'll use a while loop to keep asking for names until the list has 6 names in it, or until\n",
    "# the user enters \"quit\".\n",
    "while len(names) < 6:\n",
    "    # Ask the user for a name.\n",
    "    # Input is a function that will ask the user for input, and the argument is the prompt\n",
    "    # shown to the user. The user's input will be returned as a string and stored in the \n",
    "    # variable name.\n",
    "    name = input(\"Please enter a name: \")\n",
    "    \n",
    "    if name == \"quit\":\n",
    "        # If the user enters \"quit\", we'll break out of the loop.\n",
    "        break\n",
    "    \n",
    "    # Add the name to the list.\n",
    "    names.append(name)\n",
    "\n",
    "# Print the list of names.\n",
    "print(names)"
   ]
  },
  {
   "cell_type": "code",
   "execution_count": null,
   "id": "7634d1f6",
   "metadata": {},
   "outputs": [],
   "source": [
    "# Optional Exercise\n",
    "# Write a program that runs until the user inputs a sentence that is at least 15 characters long, or\n",
    "# until they enter the character 'q', in which case the program should quit. If the user doesn't\n",
    "# enter a sentence that is at least 15 characters long, or they enter 'q', the program should print\n",
    "# \"Too short\" and then ask the user for another sentence. If the user enters a sentence that is at\n",
    "# least 15 characters long, the program should print \"Thank you\" and then quit.\n",
    "\n",
    "## YOUR CODE GOES BELOW THIS LINE ##"
   ]
  }
 ],
 "metadata": {
  "kernelspec": {
   "display_name": "Python 3 (ipykernel)",
   "language": "python",
   "name": "python3"
  },
  "language_info": {
   "codemirror_mode": {
    "name": "ipython",
    "version": 3
   },
   "file_extension": ".py",
   "mimetype": "text/x-python",
   "name": "python",
   "nbconvert_exporter": "python",
   "pygments_lexer": "ipython3",
   "version": "3.9.0"
  }
 },
 "nbformat": 4,
 "nbformat_minor": 5
}
