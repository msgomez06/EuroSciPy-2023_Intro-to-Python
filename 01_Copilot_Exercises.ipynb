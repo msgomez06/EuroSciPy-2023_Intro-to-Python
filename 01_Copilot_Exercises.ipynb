{
 "cells": [
  {
   "cell_type": "markdown",
   "metadata": {},
   "source": [
    "<a href=\"https://colab.research.google.com/github/msgomez06/EuroSciPy-2023_Intro-to-Python/blob/main/01_Copilot_Exercises.ipynb\" target=\"_blank\"> <img src=\"https://colab.research.google.com/assets/colab-badge.svg\" alt=\"Open In Colab\"> </a>"
   ]
  },
  {
   "cell_type": "markdown",
   "metadata": {},
   "source": [
    "In this notebook we'll be going over a few exercises to get you familiar with AI assisted coding and the Copilot tool. \n",
    "\n",
    "Because you won't be installing anything locally, I will simply paste the response from Copilot into the notebook.\n",
    "\n",
    "Let's take a look at a snippet of code written in C - don't spend too much time trying to understand what it does, we'll be using Copilot to help us understand it!\n",
    "\n",
    "```c\n",
    "#include <stdio.h>\n",
    "int main() {\n",
    "  int n, reversed = 0, remainder, original;\n",
    "    printf(\"Enter an integer: \");\n",
    "    scanf(\"%d\", &n);\n",
    "    original = n;\n",
    "\n",
    "    // reversed integer is stored in reversed variable\n",
    "    while (n != 0) {\n",
    "        remainder = n % 10;\n",
    "        reversed = reversed * 10 + remainder;\n",
    "        n /= 10;\n",
    "    }\n",
    "\n",
    "    // palindrome if orignal and reversed are equal\n",
    "    if (original == reversed)\n",
    "        printf(\"%d is a palindrome.\", original);\n",
    "    else\n",
    "        printf(\"%d is not a palindrome.\", original);\n",
    "\n",
    "    return 0;\n",
    "}\n",
    "```\n",
    "\n",
    "You likely won't be able to understand this code, but that's okay! We're going to use Copilot to help us understand it. If we copy and past the code into Copilot chat and ask it to explain what it does, we get the following:\n",
    "\n",
    ">Prompt: What does this code do? + `copied and pasted code`\n",
    "\n",
    ">GitHub Copilot: This C code prompts the user to enter an integer, reads the integer from the standard input, and checks whether the integer is a palindrome. A palindrome is a number that reads the same backward as forward. \n",
    ">\n",
    ">The code first stores the original input integer in the `original` variable. It then reverses the integer by repeatedly dividing it by 10 and adding the remainder to the `reversed` variable. Finally, it checks whether the original and reversed integers are equal, and prints a message indicating whether the input integer is a palindrome or not.\n",
    "\n",
    "That's helpful, but we're working with `Python`, not `C` - let's go ahead and ask copilot to translate this code into `Python` for us. We'll copy and paste the code into Copilot chat and ask it to translate it to `Python`:"
   ]
  },
  {
   "cell_type": "code",
   "execution_count": null,
   "metadata": {},
   "outputs": [],
   "source": [
    "# This is the reponse from Copilot\n",
    "n = int(input(\"Enter an integer: \"))\n",
    "original = n\n",
    "reversed = 0\n",
    "\n",
    "# reversed integer is stored in reversed variable\n",
    "while n != 0:\n",
    "    remainder = n % 10\n",
    "    reversed = reversed * 10 + remainder\n",
    "    n //= 10\n",
    "\n",
    "# palindrome if original and reversed are equal\n",
    "if original == reversed:\n",
    "    print(f\"{original} is a palindrome.\")\n",
    "else:\n",
    "    print(f\"{original} is not a palindrome.\")"
   ]
  },
  {
   "cell_type": "markdown",
   "metadata": {},
   "source": [
    "Look at the code what copilot wrote above - what type of variables can you spot? What about the operators?"
   ]
  }
 ],
 "metadata": {
  "kernelspec": {
   "display_name": "test_env",
   "language": "python",
   "name": "python3"
  },
  "language_info": {
   "codemirror_mode": {
    "name": "ipython",
    "version": 3
   },
   "file_extension": ".py",
   "mimetype": "text/x-python",
   "name": "python",
   "nbconvert_exporter": "python",
   "pygments_lexer": "ipython3",
   "version": "3.9.0"
  },
  "orig_nbformat": 4
 },
 "nbformat": 4,
 "nbformat_minor": 2
}
